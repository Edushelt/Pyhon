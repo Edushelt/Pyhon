{
 "cells": [
  {
   "cell_type": "code",
   "execution_count": null,
   "metadata": {},
   "outputs": [],
   "source": [
    "to_do_list = []\n",
    "\n",
    "def add_task(task):\n",
    "    to_do_list.append(task)\n",
    "    print(f\"The '{task}' added.\")\n",
    "\n",
    "def view_tasks():\n",
    "    if to_do_list:\n",
    "        print(\"Your tasks:\")\n",
    "        for i, task in enumerate(to_do_list, 1):\n",
    "            print(f\"{i}. {task}\")\n",
    "    else:\n",
    "        print(\" Invalid task number.\")\n",
    "\n",
    "def remove_task(task_number):\n",
    "    if 0 < task_number <= len(to_do_list):\n",
    "        remove = to_do_list.pop(task_number - 1)\n",
    "        print(f\"Task '{remove}' remove.\")\n",
    "    else:\n",
    "        print(\"Invalid task number.\")\n",
    "\n",
    "while True:\n",
    "    print(\"\\n1. Add Task\")\n",
    "    print(\"2. View Tasks\")\n",
    "    print(\"3. Remove Task\")\n",
    "    print(\"4. Exit\")\n",
    "    \n",
    "    choice = input(\"Enter your choice: \")\n",
    "    \n",
    "    if choice == \"1\":\n",
    "        task = input(\"Enter the task: \")\n",
    "        add_task(task)\n",
    "    elif choice == \"2\":\n",
    "        view_tasks()\n",
    "    elif choice == \"3\":\n",
    "        view_tasks()\n",
    "        task_number = int(input(\"Enter the task number to remove: \"))\n",
    "        remove_task(task_number)\n",
    "    elif choice == \"4\":\n",
    "        break\n",
    "    else:\n",
    "        print(\"Invalid choice. Please try again.\")\n",
    "        "
   ]
  }
 ],
 "metadata": {
  "kernelspec": {
   "display_name": "myenv",
   "language": "python",
   "name": "python3"
  },
  "language_info": {
   "codemirror_mode": {
    "name": "ipython",
    "version": 3
   },
   "file_extension": ".py",
   "mimetype": "text/x-python",
   "name": "python",
   "nbconvert_exporter": "python",
   "pygments_lexer": "ipython3",
   "version": "3.13.0"
  }
 },
 "nbformat": 4,
 "nbformat_minor": 2
}
